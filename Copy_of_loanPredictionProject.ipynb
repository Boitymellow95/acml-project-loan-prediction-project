{
  "nbformat": 4,
  "nbformat_minor": 5,
  "metadata": {
    "kernelspec": {
      "display_name": "Python 3",
      "language": "python",
      "name": "python3"
    },
    "language_info": {
      "codemirror_mode": {
        "name": "ipython",
        "version": 3
      },
      "file_extension": ".py",
      "mimetype": "text/x-python",
      "name": "python",
      "nbconvert_exporter": "python",
      "pygments_lexer": "ipython3",
      "version": "3.8.5"
    },
    "colab": {
      "name": "Copy of loanPredictionProject.ipynb",
      "provenance": [],
      "collapsed_sections": [],
      "include_colab_link": true
    }
  },
  "cells": [
    {
      "cell_type": "markdown",
      "metadata": {
        "id": "view-in-github",
        "colab_type": "text"
      },
      "source": [
        "<a href=\"https://colab.research.google.com/github/Boitymellow95/acml-project-loan-prediction-project/blob/musa/Copy_of_loanPredictionProject.ipynb\" target=\"_parent\"><img src=\"https://colab.research.google.com/assets/colab-badge.svg\" alt=\"Open In Colab\"/></a>"
      ]
    },
    {
      "cell_type": "code",
      "metadata": {
        "id": "assured-publication"
      },
      "source": [
        "import numpy as np\n",
        "import pandas as pd\n",
        "import matplotlib.pyplot as plt\n",
        "%matplotlib inline\n",
        "import seaborn as sns\n"
      ],
      "id": "assured-publication",
      "execution_count": 2,
      "outputs": []
    },
    {
      "cell_type": "markdown",
      "metadata": {
        "id": "mMTSTWm3pJHP"
      },
      "source": [
        "Import data to Google Collab"
      ],
      "id": "mMTSTWm3pJHP"
    },
    {
      "cell_type": "code",
      "metadata": {
        "id": "ZpDPNN84iyCB"
      },
      "source": [
        "\n",
        "from google.colab import files\n",
        "files.upload() "
      ],
      "id": "ZpDPNN84iyCB",
      "execution_count": null,
      "outputs": []
    },
    {
      "cell_type": "code",
      "metadata": {
        "id": "printable-dubai"
      },
      "source": [
        "df = pd.read_csv('LoanData.csv')\n",
        "categorical_columns = ['Gender', 'Married', 'Dependents', 'Education', 'Self_Employed', 'Property_Area','Credit_History','Loan_Amount_Term']\n",
        "numerical_columns = ['ApplicantIncome', 'CoapplicantIncome', 'LoanAmount']"
      ],
      "id": "printable-dubai",
      "execution_count": 35,
      "outputs": []
    },
    {
      "cell_type": "markdown",
      "metadata": {
        "id": "Svquc0lDsTxe"
      },
      "source": [
        "## Display data frame ##\n"
      ],
      "id": "Svquc0lDsTxe"
    },
    {
      "cell_type": "code",
      "metadata": {
        "id": "HwZifZE3sTGX"
      },
      "source": [
        "display(df)"
      ],
      "id": "HwZifZE3sTGX",
      "execution_count": null,
      "outputs": []
    },
    {
      "cell_type": "markdown",
      "metadata": {
        "id": "tN7MOVx9qcuq"
      },
      "source": [
        "Make sure Pandas doesn't hide any columns.\n"
      ],
      "id": "tN7MOVx9qcuq"
    },
    {
      "cell_type": "code",
      "metadata": {
        "id": "T0K7x-Lcqtpk"
      },
      "source": [
        "pd.set_option(\"display.max.columns\", None)"
      ],
      "id": "T0K7x-Lcqtpk",
      "execution_count": 36,
      "outputs": []
    },
    {
      "cell_type": "code",
      "metadata": {
        "id": "soviet-bhutan",
        "colab": {
          "base_uri": "https://localhost:8080/",
          "height": 363
        },
        "outputId": "8ad23599-9833-4bd2-cfb6-efa576b27cea"
      },
      "source": [
        "df.head(10)"
      ],
      "id": "soviet-bhutan",
      "execution_count": 37,
      "outputs": [
        {
          "output_type": "execute_result",
          "data": {
            "text/html": [
              "<div>\n",
              "<style scoped>\n",
              "    .dataframe tbody tr th:only-of-type {\n",
              "        vertical-align: middle;\n",
              "    }\n",
              "\n",
              "    .dataframe tbody tr th {\n",
              "        vertical-align: top;\n",
              "    }\n",
              "\n",
              "    .dataframe thead th {\n",
              "        text-align: right;\n",
              "    }\n",
              "</style>\n",
              "<table border=\"1\" class=\"dataframe\">\n",
              "  <thead>\n",
              "    <tr style=\"text-align: right;\">\n",
              "      <th></th>\n",
              "      <th>Loan_ID</th>\n",
              "      <th>Gender</th>\n",
              "      <th>Married</th>\n",
              "      <th>Dependents</th>\n",
              "      <th>Education</th>\n",
              "      <th>Self_Employed</th>\n",
              "      <th>ApplicantIncome</th>\n",
              "      <th>CoapplicantIncome</th>\n",
              "      <th>LoanAmount</th>\n",
              "      <th>Loan_Amount_Term</th>\n",
              "      <th>Credit_History</th>\n",
              "      <th>Property_Area</th>\n",
              "      <th>Loan_Status</th>\n",
              "    </tr>\n",
              "  </thead>\n",
              "  <tbody>\n",
              "    <tr>\n",
              "      <th>0</th>\n",
              "      <td>LP001002</td>\n",
              "      <td>Male</td>\n",
              "      <td>No</td>\n",
              "      <td>0</td>\n",
              "      <td>Graduate</td>\n",
              "      <td>No</td>\n",
              "      <td>5849</td>\n",
              "      <td>0.0</td>\n",
              "      <td>NaN</td>\n",
              "      <td>360.0</td>\n",
              "      <td>1.0</td>\n",
              "      <td>Urban</td>\n",
              "      <td>Y</td>\n",
              "    </tr>\n",
              "    <tr>\n",
              "      <th>1</th>\n",
              "      <td>LP001003</td>\n",
              "      <td>Male</td>\n",
              "      <td>Yes</td>\n",
              "      <td>1</td>\n",
              "      <td>Graduate</td>\n",
              "      <td>No</td>\n",
              "      <td>4583</td>\n",
              "      <td>1508.0</td>\n",
              "      <td>128.0</td>\n",
              "      <td>360.0</td>\n",
              "      <td>1.0</td>\n",
              "      <td>Rural</td>\n",
              "      <td>N</td>\n",
              "    </tr>\n",
              "    <tr>\n",
              "      <th>2</th>\n",
              "      <td>LP001005</td>\n",
              "      <td>Male</td>\n",
              "      <td>Yes</td>\n",
              "      <td>0</td>\n",
              "      <td>Graduate</td>\n",
              "      <td>Yes</td>\n",
              "      <td>3000</td>\n",
              "      <td>0.0</td>\n",
              "      <td>66.0</td>\n",
              "      <td>360.0</td>\n",
              "      <td>1.0</td>\n",
              "      <td>Urban</td>\n",
              "      <td>Y</td>\n",
              "    </tr>\n",
              "    <tr>\n",
              "      <th>3</th>\n",
              "      <td>LP001006</td>\n",
              "      <td>Male</td>\n",
              "      <td>Yes</td>\n",
              "      <td>0</td>\n",
              "      <td>Not Graduate</td>\n",
              "      <td>No</td>\n",
              "      <td>2583</td>\n",
              "      <td>2358.0</td>\n",
              "      <td>120.0</td>\n",
              "      <td>360.0</td>\n",
              "      <td>1.0</td>\n",
              "      <td>Urban</td>\n",
              "      <td>Y</td>\n",
              "    </tr>\n",
              "    <tr>\n",
              "      <th>4</th>\n",
              "      <td>LP001008</td>\n",
              "      <td>Male</td>\n",
              "      <td>No</td>\n",
              "      <td>0</td>\n",
              "      <td>Graduate</td>\n",
              "      <td>No</td>\n",
              "      <td>6000</td>\n",
              "      <td>0.0</td>\n",
              "      <td>141.0</td>\n",
              "      <td>360.0</td>\n",
              "      <td>1.0</td>\n",
              "      <td>Urban</td>\n",
              "      <td>Y</td>\n",
              "    </tr>\n",
              "    <tr>\n",
              "      <th>5</th>\n",
              "      <td>LP001011</td>\n",
              "      <td>Male</td>\n",
              "      <td>Yes</td>\n",
              "      <td>2</td>\n",
              "      <td>Graduate</td>\n",
              "      <td>Yes</td>\n",
              "      <td>5417</td>\n",
              "      <td>4196.0</td>\n",
              "      <td>267.0</td>\n",
              "      <td>360.0</td>\n",
              "      <td>1.0</td>\n",
              "      <td>Urban</td>\n",
              "      <td>Y</td>\n",
              "    </tr>\n",
              "    <tr>\n",
              "      <th>6</th>\n",
              "      <td>LP001013</td>\n",
              "      <td>Male</td>\n",
              "      <td>Yes</td>\n",
              "      <td>0</td>\n",
              "      <td>Not Graduate</td>\n",
              "      <td>No</td>\n",
              "      <td>2333</td>\n",
              "      <td>1516.0</td>\n",
              "      <td>95.0</td>\n",
              "      <td>360.0</td>\n",
              "      <td>1.0</td>\n",
              "      <td>Urban</td>\n",
              "      <td>Y</td>\n",
              "    </tr>\n",
              "    <tr>\n",
              "      <th>7</th>\n",
              "      <td>LP001014</td>\n",
              "      <td>Male</td>\n",
              "      <td>Yes</td>\n",
              "      <td>3+</td>\n",
              "      <td>Graduate</td>\n",
              "      <td>No</td>\n",
              "      <td>3036</td>\n",
              "      <td>2504.0</td>\n",
              "      <td>158.0</td>\n",
              "      <td>360.0</td>\n",
              "      <td>0.0</td>\n",
              "      <td>Semiurban</td>\n",
              "      <td>N</td>\n",
              "    </tr>\n",
              "    <tr>\n",
              "      <th>8</th>\n",
              "      <td>LP001018</td>\n",
              "      <td>Male</td>\n",
              "      <td>Yes</td>\n",
              "      <td>2</td>\n",
              "      <td>Graduate</td>\n",
              "      <td>No</td>\n",
              "      <td>4006</td>\n",
              "      <td>1526.0</td>\n",
              "      <td>168.0</td>\n",
              "      <td>360.0</td>\n",
              "      <td>1.0</td>\n",
              "      <td>Urban</td>\n",
              "      <td>Y</td>\n",
              "    </tr>\n",
              "    <tr>\n",
              "      <th>9</th>\n",
              "      <td>LP001020</td>\n",
              "      <td>Male</td>\n",
              "      <td>Yes</td>\n",
              "      <td>1</td>\n",
              "      <td>Graduate</td>\n",
              "      <td>No</td>\n",
              "      <td>12841</td>\n",
              "      <td>10968.0</td>\n",
              "      <td>349.0</td>\n",
              "      <td>360.0</td>\n",
              "      <td>1.0</td>\n",
              "      <td>Semiurban</td>\n",
              "      <td>N</td>\n",
              "    </tr>\n",
              "  </tbody>\n",
              "</table>\n",
              "</div>"
            ],
            "text/plain": [
              "    Loan_ID Gender Married Dependents     Education Self_Employed  \\\n",
              "0  LP001002   Male      No          0      Graduate            No   \n",
              "1  LP001003   Male     Yes          1      Graduate            No   \n",
              "2  LP001005   Male     Yes          0      Graduate           Yes   \n",
              "3  LP001006   Male     Yes          0  Not Graduate            No   \n",
              "4  LP001008   Male      No          0      Graduate            No   \n",
              "5  LP001011   Male     Yes          2      Graduate           Yes   \n",
              "6  LP001013   Male     Yes          0  Not Graduate            No   \n",
              "7  LP001014   Male     Yes         3+      Graduate            No   \n",
              "8  LP001018   Male     Yes          2      Graduate            No   \n",
              "9  LP001020   Male     Yes          1      Graduate            No   \n",
              "\n",
              "   ApplicantIncome  CoapplicantIncome  LoanAmount  Loan_Amount_Term  \\\n",
              "0             5849                0.0         NaN             360.0   \n",
              "1             4583             1508.0       128.0             360.0   \n",
              "2             3000                0.0        66.0             360.0   \n",
              "3             2583             2358.0       120.0             360.0   \n",
              "4             6000                0.0       141.0             360.0   \n",
              "5             5417             4196.0       267.0             360.0   \n",
              "6             2333             1516.0        95.0             360.0   \n",
              "7             3036             2504.0       158.0             360.0   \n",
              "8             4006             1526.0       168.0             360.0   \n",
              "9            12841            10968.0       349.0             360.0   \n",
              "\n",
              "   Credit_History Property_Area Loan_Status  \n",
              "0             1.0         Urban           Y  \n",
              "1             1.0         Rural           N  \n",
              "2             1.0         Urban           Y  \n",
              "3             1.0         Urban           Y  \n",
              "4             1.0         Urban           Y  \n",
              "5             1.0         Urban           Y  \n",
              "6             1.0         Urban           Y  \n",
              "7             0.0     Semiurban           N  \n",
              "8             1.0         Urban           Y  \n",
              "9             1.0     Semiurban           N  "
            ]
          },
          "metadata": {
            "tags": []
          },
          "execution_count": 37
        }
      ]
    },
    {
      "cell_type": "markdown",
      "metadata": {
        "id": "JitoEh_LTFDP"
      },
      "source": [
        "# Exploratory Analysis #"
      ],
      "id": "JitoEh_LTFDP"
    },
    {
      "cell_type": "code",
      "metadata": {
        "id": "Ua1rDNwXZuC8",
        "colab": {
          "base_uri": "https://localhost:8080/",
          "height": 903
        },
        "outputId": "36f7f116-0d3c-43d7-b8fa-468f369190d8"
      },
      "source": [
        "sns.pairplot(df, hue='Loan_Status', height=2.5);\n"
      ],
      "id": "Ua1rDNwXZuC8",
      "execution_count": 38,
      "outputs": [
        {
          "output_type": "display_data",
          "data": {
            "image/png": "[encoded data removed]",
            "text/plain": [
              "<Figure size 968.625x900 with 30 Axes>"
            ]
          },
          "metadata": {
            "tags": [],
            "needs_background": "light"
          }
        }
      ]
    },
    {
      "cell_type": "markdown",
      "metadata": {
        "id": "Cwwq6JJAavlT"
      },
      "source": [
        "Based on the above graphs - we can see that there is a correlation between loan status and applicant_incomes and co-applicant income."
      ],
      "id": "Cwwq6JJAavlT"
    },
    {
      "cell_type": "markdown",
      "metadata": {
        "id": "E8XYikhSKbAV"
      },
      "source": [
        "## 3 Analyze values assigned ##\n",
        "### 3.1 Analyse Categorical Columns ###"
      ],
      "id": "E8XYikhSKbAV"
    },
    {
      "cell_type": "code",
      "metadata": {
        "colab": {
          "base_uri": "https://localhost:8080/",
          "height": 878
        },
        "id": "jX4WlhzWKZjB",
        "outputId": "a0404127-99d1-4fcb-8871-5940cb1f03bb"
      },
      "source": [
        "fig,axes = plt.subplots(4,2,figsize=(15,15))\n",
        "for idx,cat_col in enumerate(categorical_columns):\n",
        "    row,col = idx//2,idx%2\n",
        "    sns.countplot(x=cat_col,data=df,hue='Loan_Status',ax=axes[row,col])\n",
        "plt.subplots_adjust(hspace=1)"
      ],
      "id": "jX4WlhzWKZjB",
      "execution_count": 39,
      "outputs": [
        {
          "output_type": "display_data",
          "data": {
            "image/png": "[encoded data removed]",
            "text/plain": [
              "<Figure size 1080x1080 with 8 Axes>"
            ]
          },
          "metadata": {
            "tags": [],
            "needs_background": "light"
          }
        }
      ]
    },
    {
      "cell_type": "markdown",
      "metadata": {
        "id": "9reENIzpMokH"
      },
      "source": [
        "### 3.1.1 Categorical Columns Interpretation ###\n",
        "\n",
        "Plots above convey following things about the dataset:\n",
        "\n",
        "1.   Loan Approval Status: About 2/3rd of applicants have been granted loan.\n",
        "1.   Sex: There are more Men than Women (approx. 3x)\n",
        "2.   Martial Status: 2/3rd of the population in the dataset is Marred; Married applicants are more likely to be granted loans.\n",
        "2.   Dependents: Majority of the population have zero dependents and are also likely to accepted for loan.\n",
        "1.   Education: About 5/6th of the population is Graduate and graduates have higher propotion of loan approval\n",
        "2.   Employment: 5/6th of population is not self employed.\n",
        "1.   Property Area: More applicants from Semi-urban and also likely to be granted loans.\n",
        "2.   Applicant with credit history are far more likely to be accepted.\n",
        "1.   Loan Amount Term: Majority of the loans taken are for 360 Months (30 years)."
      ],
      "id": "9reENIzpMokH"
    },
    {
      "cell_type": "markdown",
      "metadata": {
        "id": "2kgSsC0kOj8F"
      },
      "source": [
        "### 3.2 Analyse Numerical Columns ###"
      ],
      "id": "2kgSsC0kOj8F"
    },
    {
      "cell_type": "code",
      "metadata": {
        "colab": {
          "base_uri": "https://localhost:8080/",
          "height": 491
        },
        "id": "Vg9IB4mQOoO8",
        "outputId": "79e1dae4-ad0d-44f0-d559-05c8e79b856c"
      },
      "source": [
        "fig,axes = plt.subplots(1,3,figsize=(17,5))\n",
        "for idx,cat_col in enumerate(numerical_columns):\n",
        "    sns.boxplot(y=cat_col,data=df,x='Loan_Status',ax=axes[idx])\n",
        "\n",
        "print(df[numerical_columns].describe())\n",
        "plt.subplots_adjust(hspace=1)"
      ],
      "id": "Vg9IB4mQOoO8",
      "execution_count": 40,
      "outputs": [
        {
          "output_type": "stream",
          "text": [
            "       ApplicantIncome  CoapplicantIncome  LoanAmount\n",
            "count       614.000000         614.000000  592.000000\n",
            "mean       5403.459283        1621.245798  146.412162\n",
            "std        6109.041673        2926.248369   85.587325\n",
            "min         150.000000           0.000000    9.000000\n",
            "25%        2877.500000           0.000000  100.000000\n",
            "50%        3812.500000        1188.500000  128.000000\n",
            "75%        5795.000000        2297.250000  168.000000\n",
            "max       81000.000000       41667.000000  700.000000\n"
          ],
          "name": "stdout"
        },
        {
          "output_type": "display_data",
          "data": {
            "image/png": "[encoded data removed]",
            "text/plain": [
              "<Figure size 1224x360 with 3 Axes>"
            ]
          },
          "metadata": {
            "tags": [],
            "needs_background": "light"
          }
        }
      ]
    },
    {
      "cell_type": "markdown",
      "metadata": {
        "id": "JR-Im3mQO_oV"
      },
      "source": [
        "### 3.2.1 Numerical Columns interpretation ###\n",
        "For Numercical Columns, there is no significant relation to Loan approval status."
      ],
      "id": "JR-Im3mQO_oV"
    },
    {
      "cell_type": "markdown",
      "metadata": {
        "id": "EFDRBce2TQ7v"
      },
      "source": [
        "## Loan Status ##\n",
        "This is a variable we are trying to predict. \n",
        "\n",
        "Based on our dataset - we have **422 approved loans** and **192 declined loans**."
      ],
      "id": "EFDRBce2TQ7v"
    },
    {
      "cell_type": "code",
      "metadata": {
        "colab": {
          "base_uri": "https://localhost:8080/"
        },
        "id": "S9tYx3x2b9aU",
        "outputId": "fb0d0a46-66af-4ad8-c54c-8669e9d201bf"
      },
      "source": [
        "# Loan approval rates in absolute numbers\n",
        "loans_approved = df['Loan_Status'].value_counts()['Y']\n",
        "loans_declined = df['Loan_Status'].value_counts()['N']\n",
        "print(\"Number of loans were approved: \", loans_approved)\n",
        "print(\"Number of loans were declined: \", loans_declined)\n",
        "\n"
      ],
      "id": "S9tYx3x2b9aU",
      "execution_count": 41,
      "outputs": [
        {
          "output_type": "stream",
          "text": [
            "Number of loans were approved:  422\n",
            "Number of loans were declined:  192\n"
          ],
          "name": "stdout"
        }
      ]
    },
    {
      "cell_type": "code",
      "metadata": {
        "id": "yDNZyp2tTEZb",
        "colab": {
          "base_uri": "https://localhost:8080/",
          "height": 296
        },
        "outputId": "a7654c63-c1ad-4d27-c906-aec154b1e1fd"
      },
      "source": [
        "plt.title(\"Distribution of Loan Status\")\n",
        "sns.countplot(x='Loan_Status',data=df,palette=['magenta','orange']);"
      ],
      "id": "yDNZyp2tTEZb",
      "execution_count": 42,
      "outputs": [
        {
          "output_type": "display_data",
          "data": {
            "image/png": "[encoded data removed]",
            "text/plain": [
              "<Figure size 432x288 with 1 Axes>"
            ]
          },
          "metadata": {
            "tags": [],
            "needs_background": "light"
          }
        }
      ]
    },
    {
      "cell_type": "code",
      "metadata": {
        "id": "dBBAJ9gcfFzl",
        "colab": {
          "base_uri": "https://localhost:8080/",
          "height": 282
        },
        "outputId": "0a9b7cc8-6e9e-42b0-dd2d-2bb86dab2b88"
      },
      "source": [
        "# Histogram of variable LoanAmount\n",
        "df['LoanAmount'].hist(bins=50)"
      ],
      "id": "dBBAJ9gcfFzl",
      "execution_count": 43,
      "outputs": [
        {
          "output_type": "execute_result",
          "data": {
            "text/plain": [
              "<matplotlib.axes._subplots.AxesSubplot at 0x7f04c02d6410>"
            ]
          },
          "metadata": {
            "tags": []
          },
          "execution_count": 43
        },
        {
          "output_type": "display_data",
          "data": {
            "image/png": "[encoded data removed]",
            "text/plain": [
              "<Figure size 432x288 with 1 Axes>"
            ]
          },
          "metadata": {
            "tags": [],
            "needs_background": "light"
          }
        }
      ]
    },
    {
      "cell_type": "code",
      "metadata": {
        "colab": {
          "base_uri": "https://localhost:8080/",
          "height": 282
        },
        "id": "QrSNDrIlrqLm",
        "outputId": "25027d83-5229-42b5-c4f0-f5d62fcd8020"
      },
      "source": [
        "# Perform log transformation of TotalIncome to make it closer to normal\n",
        "df['LoanAmount_log'] = np.log(df['LoanAmount'])\n",
        "\n",
        "# Looking at the distribtion of TotalIncome_log\n",
        "df['LoanAmount_log'].hist(bins=20)"
      ],
      "id": "QrSNDrIlrqLm",
      "execution_count": 44,
      "outputs": [
        {
          "output_type": "execute_result",
          "data": {
            "text/plain": [
              "<matplotlib.axes._subplots.AxesSubplot at 0x7f04bca45210>"
            ]
          },
          "metadata": {
            "tags": []
          },
          "execution_count": 44
        },
        {
          "output_type": "display_data",
          "data": {
            "image/png": "[encoded data removed]",
            "text/plain": [
              "<Figure size 432x288 with 1 Axes>"
            ]
          },
          "metadata": {
            "tags": [],
            "needs_background": "light"
          }
        }
      ]
    },
    {
      "cell_type": "code",
      "metadata": {
        "colab": {
          "base_uri": "https://localhost:8080/"
        },
        "id": "Swt7tTQBecxO",
        "outputId": "649897d6-c114-4d33-8810-35a4fb588f73"
      },
      "source": [
        "# Get the unique values and their frequency of variable Property_Area\n",
        "property_area = df['Property_Area'].value_counts()\n",
        "property_area"
      ],
      "id": "Swt7tTQBecxO",
      "execution_count": 45,
      "outputs": [
        {
          "output_type": "execute_result",
          "data": {
            "text/plain": [
              "Semiurban    233\n",
              "Urban        202\n",
              "Rural        179\n",
              "Name: Property_Area, dtype: int64"
            ]
          },
          "metadata": {
            "tags": []
          },
          "execution_count": 45
        }
      ]
    },
    {
      "cell_type": "markdown",
      "metadata": {
        "id": "M3tJVL3kglBQ"
      },
      "source": [
        "#### Applicant Income to understand **outliers** ####"
      ],
      "id": "M3tJVL3kglBQ"
    },
    {
      "cell_type": "code",
      "metadata": {
        "colab": {
          "base_uri": "https://localhost:8080/",
          "height": 282
        },
        "id": "mMyCD5INgjIY",
        "outputId": "01654f29-451b-4ab5-d490-bf4547e03967"
      },
      "source": [
        "# Histogram of variable ApplicantIncome\n",
        "df['ApplicantIncome'].hist()"
      ],
      "id": "mMyCD5INgjIY",
      "execution_count": 46,
      "outputs": [
        {
          "output_type": "execute_result",
          "data": {
            "text/plain": [
              "<matplotlib.axes._subplots.AxesSubplot at 0x7f04bcb58dd0>"
            ]
          },
          "metadata": {
            "tags": []
          },
          "execution_count": 46
        },
        {
          "output_type": "display_data",
          "data": {
            "image/png": "[encoded data removed]",
            "text/plain": [
              "<Figure size 432x288 with 1 Axes>"
            ]
          },
          "metadata": {
            "tags": [],
            "needs_background": "light"
          }
        }
      ]
    },
    {
      "cell_type": "code",
      "metadata": {
        "colab": {
          "base_uri": "https://localhost:8080/",
          "height": 282
        },
        "id": "6Cskk9l2hApO",
        "outputId": "af0be8d8-2ff7-46da-c605-95ff8627f33f"
      },
      "source": [
        "# Box Plot for variable ApplicantIncome of training data set\n",
        "df.boxplot(column='ApplicantIncome')"
      ],
      "id": "6Cskk9l2hApO",
      "execution_count": 47,
      "outputs": [
        {
          "output_type": "execute_result",
          "data": {
            "text/plain": [
              "<matplotlib.axes._subplots.AxesSubplot at 0x7f04b1e42a10>"
            ]
          },
          "metadata": {
            "tags": []
          },
          "execution_count": 47
        },
        {
          "output_type": "display_data",
          "data": {
            "image/png": "[encoded data removed]",
            "text/plain": [
              "<Figure size 432x288 with 1 Axes>"
            ]
          },
          "metadata": {
            "tags": [],
            "needs_background": "light"
          }
        }
      ]
    },
    {
      "cell_type": "markdown",
      "metadata": {
        "id": "emJkS22dhL1I"
      },
      "source": [
        "The above Box Plot confirms the presence of a lot of outliers/extreme values. This can be attributed to the income disparity in the society."
      ],
      "id": "emJkS22dhL1I"
    },
    {
      "cell_type": "code",
      "metadata": {
        "colab": {
          "base_uri": "https://localhost:8080/",
          "height": 373
        },
        "id": "fzSBJ-QehWK6",
        "outputId": "7e5d7db2-dba4-44b7-dc44-6fd86466849a"
      },
      "source": [
        "# Box Plot for variable ApplicantIncome by variable Education of training data set\n",
        "df.boxplot(column='ApplicantIncome', by = 'Education')"
      ],
      "id": "fzSBJ-QehWK6",
      "execution_count": 48,
      "outputs": [
        {
          "output_type": "stream",
          "text": [
            "/usr/local/lib/python3.7/dist-packages/numpy/core/_asarray.py:83: VisibleDeprecationWarning: Creating an ndarray from ragged nested sequences (which is a list-or-tuple of lists-or-tuples-or ndarrays with different lengths or shapes) is deprecated. If you meant to do this, you must specify 'dtype=object' when creating the ndarray\n",
            "  return array(a, dtype, copy=False, order=order)\n"
          ],
          "name": "stderr"
        },
        {
          "output_type": "execute_result",
          "data": {
            "text/plain": [
              "<matplotlib.axes._subplots.AxesSubplot at 0x7f04b1dd8c10>"
            ]
          },
          "metadata": {
            "tags": []
          },
          "execution_count": 48
        },
        {
          "output_type": "display_data",
          "data": {
            "image/png": "[encoded data removed]",
            "text/plain": [
              "<Figure size 432x288 with 1 Axes>"
            ]
          },
          "metadata": {
            "tags": [],
            "needs_background": "light"
          }
        }
      ]
    },
    {
      "cell_type": "markdown",
      "metadata": {
        "id": "y5ZoPyT4j7Vx"
      },
      "source": [
        "We can see that there is no substantial different between the mean income of graduate and non-graduates. But there are a higher number of graduates with very high incomes, which are appearing to be the outliers."
      ],
      "id": "y5ZoPyT4j7Vx"
    },
    {
      "cell_type": "code",
      "metadata": {
        "colab": {
          "base_uri": "https://localhost:8080/",
          "height": 373
        },
        "id": "M5xl9ELQkyG0",
        "outputId": "ad6097f5-c92a-4242-9566-21f7d1f8573c"
      },
      "source": [
        "# Box Plot for variable LoanAmount by variable Gender of training data set\n",
        "df.boxplot(column='LoanAmount', by = 'Gender')"
      ],
      "id": "M5xl9ELQkyG0",
      "execution_count": 49,
      "outputs": [
        {
          "output_type": "stream",
          "text": [
            "/usr/local/lib/python3.7/dist-packages/numpy/core/_asarray.py:83: VisibleDeprecationWarning: Creating an ndarray from ragged nested sequences (which is a list-or-tuple of lists-or-tuples-or ndarrays with different lengths or shapes) is deprecated. If you meant to do this, you must specify 'dtype=object' when creating the ndarray\n",
            "  return array(a, dtype, copy=False, order=order)\n"
          ],
          "name": "stderr"
        },
        {
          "output_type": "execute_result",
          "data": {
            "text/plain": [
              "<matplotlib.axes._subplots.AxesSubplot at 0x7f04bc95a450>"
            ]
          },
          "metadata": {
            "tags": []
          },
          "execution_count": 49
        },
        {
          "output_type": "display_data",
          "data": {
            "image/png": "[encoded data removed]",
            "text/plain": [
              "<Figure size 432x288 with 1 Axes>"
            ]
          },
          "metadata": {
            "tags": [],
            "needs_background": "light"
          }
        }
      ]
    },
    {
      "cell_type": "markdown",
      "metadata": {
        "id": "q97ZBDuyk6zk"
      },
      "source": [
        "LoanAmount has missing as well as extreme values, while ApplicantIncome has a few ex\u0002treme values."
      ],
      "id": "q97ZBDuyk6zk"
    },
    {
      "cell_type": "markdown",
      "metadata": {
        "id": "RVTtFg_amWWS"
      },
      "source": [
        "### Visualise Credit History ###"
      ],
      "id": "RVTtFg_amWWS"
    },
    {
      "cell_type": "code",
      "metadata": {
        "colab": {
          "base_uri": "https://localhost:8080/",
          "height": 175
        },
        "id": "aGG4mkhgmUWn",
        "outputId": "938ccce4-5bcd-4839-9294-1d5bdfd15ad0"
      },
      "source": [
        "# Credit History and Loan Status\n",
        "pd.crosstab(df ['Credit_History'], df ['Loan_Status'], margins=True)"
      ],
      "id": "aGG4mkhgmUWn",
      "execution_count": 50,
      "outputs": [
        {
          "output_type": "execute_result",
          "data": {
            "text/html": [
              "<div>\n",
              "<style scoped>\n",
              "    .dataframe tbody tr th:only-of-type {\n",
              "        vertical-align: middle;\n",
              "    }\n",
              "\n",
              "    .dataframe tbody tr th {\n",
              "        vertical-align: top;\n",
              "    }\n",
              "\n",
              "    .dataframe thead th {\n",
              "        text-align: right;\n",
              "    }\n",
              "</style>\n",
              "<table border=\"1\" class=\"dataframe\">\n",
              "  <thead>\n",
              "    <tr style=\"text-align: right;\">\n",
              "      <th>Loan_Status</th>\n",
              "      <th>N</th>\n",
              "      <th>Y</th>\n",
              "      <th>All</th>\n",
              "    </tr>\n",
              "    <tr>\n",
              "      <th>Credit_History</th>\n",
              "      <th></th>\n",
              "      <th></th>\n",
              "      <th></th>\n",
              "    </tr>\n",
              "  </thead>\n",
              "  <tbody>\n",
              "    <tr>\n",
              "      <th>0.0</th>\n",
              "      <td>82</td>\n",
              "      <td>7</td>\n",
              "      <td>89</td>\n",
              "    </tr>\n",
              "    <tr>\n",
              "      <th>1.0</th>\n",
              "      <td>97</td>\n",
              "      <td>378</td>\n",
              "      <td>475</td>\n",
              "    </tr>\n",
              "    <tr>\n",
              "      <th>All</th>\n",
              "      <td>179</td>\n",
              "      <td>385</td>\n",
              "      <td>564</td>\n",
              "    </tr>\n",
              "  </tbody>\n",
              "</table>\n",
              "</div>"
            ],
            "text/plain": [
              "Loan_Status       N    Y  All\n",
              "Credit_History               \n",
              "0.0              82    7   89\n",
              "1.0              97  378  475\n",
              "All             179  385  564"
            ]
          },
          "metadata": {
            "tags": []
          },
          "execution_count": 50
        }
      ]
    },
    {
      "cell_type": "code",
      "metadata": {
        "colab": {
          "base_uri": "https://localhost:8080/"
        },
        "id": "waKK8xeUm8DX",
        "outputId": "9b8039c9-507d-4c51-b9fd-3abdd608dc67"
      },
      "source": [
        "#Function to output percentage row wise in a cross table\n",
        "def percentageConvert(ser):\n",
        "  return ser/float(ser[-1])\n",
        "\n",
        "# Loan approval rate for customers having Credit_History (1)\n",
        "credithistory = pd.crosstab(df [\"Credit_History\"], df [\"Loan_Status\"], margins=True).apply(percentageConvert, axis=1)\n",
        "loan_approval_with_credit = credithistory['Y'][1]*100\n",
        "loan_approval_without_credit = credithistory['Y'][0]*100\n",
        "print('%.2f percent of the applicants whose loans were approved have Credit History' % loan_approval_with_credit)\n",
        "print(\"%.2f percent of the applicants whose loans were approved do not have Credit History\" % loan_approval_without_credit)\n",
        "\n",
        "print(credithistory['Y']);"
      ],
      "id": "waKK8xeUm8DX",
      "execution_count": 51,
      "outputs": [
        {
          "output_type": "stream",
          "text": [
            "79.58 percent of the applicants whose loans were approved have Credit History\n",
            "7.87 percent of the applicants whose loans were approved do not have Credit History\n",
            "Credit_History\n",
            "0.0    0.078652\n",
            "1.0    0.795789\n",
            "All    0.682624\n",
            "Name: Y, dtype: float64\n"
          ],
          "name": "stdout"
        }
      ]
    },
    {
      "cell_type": "markdown",
      "metadata": {
        "id": "strong-services"
      },
      "source": [
        "# Data Cleaning and Filling Missing Values\n",
        "\n",
        "# missing values: check where there's missing values & fix accordingly\n"
      ],
      "id": "strong-services"
    },
    {
      "cell_type": "code",
      "metadata": {
        "id": "latest-message"
      },
      "source": [
        "df.isnull()"
      ],
      "id": "latest-message",
      "execution_count": null,
      "outputs": []
    },
    {
      "cell_type": "markdown",
      "metadata": {
        "id": "y2sfingur5-1"
      },
      "source": [
        "the inline backend is popular for Jupyter Notebooks because it displays the plot in the notebook itself, immediately below the cell that creates the plot"
      ],
      "id": "y2sfingur5-1"
    },
    {
      "cell_type": "code",
      "metadata": {
        "id": "raised-ballet"
      },
      "source": [
        "total = df.isnull().sum()"
      ],
      "id": "raised-ballet",
      "execution_count": 53,
      "outputs": []
    },
    {
      "cell_type": "code",
      "metadata": {
        "id": "utility-lightning"
      },
      "source": [
        "total"
      ],
      "id": "utility-lightning",
      "execution_count": null,
      "outputs": []
    },
    {
      "cell_type": "code",
      "metadata": {
        "id": "lHc-A1Pn6thG"
      },
      "source": [
        ""
      ],
      "id": "lHc-A1Pn6thG",
      "execution_count": 54,
      "outputs": []
    },
    {
      "cell_type": "code",
      "metadata": {
        "id": "collected-diagnosis",
        "colab": {
          "base_uri": "https://localhost:8080/"
        },
        "outputId": "d8059ee9-d512-4a7a-bf91-1ade105d1505"
      },
      "source": [
        "loans_by_gender = df['Gender'].value_counts()\n",
        "loans_by_gender"
      ],
      "id": "collected-diagnosis",
      "execution_count": 55,
      "outputs": [
        {
          "output_type": "execute_result",
          "data": {
            "text/plain": [
              "Male      489\n",
              "Female    112\n",
              "Name: Gender, dtype: int64"
            ]
          },
          "metadata": {
            "tags": []
          },
          "execution_count": 55
        }
      ]
    },
    {
      "cell_type": "code",
      "metadata": {
        "colab": {
          "base_uri": "https://localhost:8080/",
          "height": 313
        },
        "id": "m_eCkeWl7Fgl",
        "outputId": "2edccc1e-702d-4658-fdb5-192fbc103487"
      },
      "source": [
        "loans_by_gender.sort_values().plot(kind='barh')\n",
        "plt.title('Loans by Gender')\n",
        "plt.ylabel('Gender')\n",
        "plt.xlabel('Loan_Status')"
      ],
      "id": "m_eCkeWl7Fgl",
      "execution_count": 56,
      "outputs": [
        {
          "output_type": "execute_result",
          "data": {
            "text/plain": [
              "Text(0.5, 0, 'Loan_Status')"
            ]
          },
          "metadata": {
            "tags": []
          },
          "execution_count": 56
        },
        {
          "output_type": "display_data",
          "data": {
            "image/png": "[encoded data removed]",
            "text/plain": [
              "<Figure size 432x288 with 1 Axes>"
            ]
          },
          "metadata": {
            "tags": [],
            "needs_background": "light"
          }
        }
      ]
    },
    {
      "cell_type": "code",
      "metadata": {
        "id": "linear-ridge"
      },
      "source": [
        "df.Gender = df.Gender.fillna('Male')"
      ],
      "id": "linear-ridge",
      "execution_count": 57,
      "outputs": []
    },
    {
      "cell_type": "code",
      "metadata": {
        "id": "heavy-syria"
      },
      "source": [
        "df['Married'].value_counts()"
      ],
      "id": "heavy-syria",
      "execution_count": null,
      "outputs": []
    },
    {
      "cell_type": "code",
      "metadata": {
        "id": "convinced-bench"
      },
      "source": [
        "df.Married = df.Married.fillna('Yes')"
      ],
      "id": "convinced-bench",
      "execution_count": 59,
      "outputs": []
    },
    {
      "cell_type": "code",
      "metadata": {
        "id": "refined-centre"
      },
      "source": [
        "df['Dependents'].value_counts()"
      ],
      "id": "refined-centre",
      "execution_count": null,
      "outputs": []
    },
    {
      "cell_type": "code",
      "metadata": {
        "id": "challenging-crime"
      },
      "source": [
        "df.Dependents = df.Dependents.fillna('0')"
      ],
      "id": "challenging-crime",
      "execution_count": 61,
      "outputs": []
    },
    {
      "cell_type": "code",
      "metadata": {
        "id": "transparent-clone"
      },
      "source": [
        "df['Self_Employed'].value_counts()"
      ],
      "id": "transparent-clone",
      "execution_count": null,
      "outputs": []
    },
    {
      "cell_type": "code",
      "metadata": {
        "id": "chinese-links"
      },
      "source": [
        "df.Self_Employed = df.Self_Employed.fillna('No')"
      ],
      "id": "chinese-links",
      "execution_count": 63,
      "outputs": []
    },
    {
      "cell_type": "code",
      "metadata": {
        "colab": {
          "base_uri": "https://localhost:8080/"
        },
        "id": "undefined-debate",
        "outputId": "de4e7d62-b3da-4c6d-ca57-5ba9a4197045"
      },
      "source": [
        "df['Loan_Amount_Term'].value_counts()"
      ],
      "id": "undefined-debate",
      "execution_count": 64,
      "outputs": [
        {
          "output_type": "execute_result",
          "data": {
            "text/plain": [
              "360.0    512\n",
              "180.0     44\n",
              "480.0     15\n",
              "300.0     13\n",
              "84.0       4\n",
              "240.0      4\n",
              "120.0      3\n",
              "36.0       2\n",
              "60.0       2\n",
              "12.0       1\n",
              "Name: Loan_Amount_Term, dtype: int64"
            ]
          },
          "metadata": {
            "tags": []
          },
          "execution_count": 64
        }
      ]
    },
    {
      "cell_type": "code",
      "metadata": {
        "id": "accredited-tension"
      },
      "source": [
        "df.Loan_Amount_Term = df.Loan_Amount_Term.fillna('360.0')"
      ],
      "id": "accredited-tension",
      "execution_count": 65,
      "outputs": []
    },
    {
      "cell_type": "code",
      "metadata": {
        "id": "ideal-martin"
      },
      "source": [
        "df.LoanAmount = df.LoanAmount.fillna(df.LoanAmount.mean())"
      ],
      "id": "ideal-martin",
      "execution_count": 66,
      "outputs": []
    },
    {
      "cell_type": "code",
      "metadata": {
        "colab": {
          "base_uri": "https://localhost:8080/"
        },
        "id": "cubic-wallace",
        "outputId": "f292842b-c41c-4da4-a52c-569d1cd5447c"
      },
      "source": [
        "df.LoanAmount.mean()"
      ],
      "id": "cubic-wallace",
      "execution_count": 67,
      "outputs": [
        {
          "output_type": "execute_result",
          "data": {
            "text/plain": [
              "146.41216216216213"
            ]
          },
          "metadata": {
            "tags": []
          },
          "execution_count": 67
        }
      ]
    },
    {
      "cell_type": "code",
      "metadata": {
        "colab": {
          "base_uri": "https://localhost:8080/"
        },
        "id": "pharmaceutical-panel",
        "outputId": "cffc4d03-be0e-4a9d-fd91-9c10733cca9a"
      },
      "source": [
        "df['Credit_History'].value_counts()"
      ],
      "id": "pharmaceutical-panel",
      "execution_count": 68,
      "outputs": [
        {
          "output_type": "execute_result",
          "data": {
            "text/plain": [
              "1.0    475\n",
              "0.0     89\n",
              "Name: Credit_History, dtype: int64"
            ]
          },
          "metadata": {
            "tags": []
          },
          "execution_count": 68
        }
      ]
    },
    {
      "cell_type": "code",
      "metadata": {
        "id": "honest-replica"
      },
      "source": [
        "df.Credit_History = df.Credit_History.fillna('1.0')"
      ],
      "id": "honest-replica",
      "execution_count": 69,
      "outputs": []
    },
    {
      "cell_type": "code",
      "metadata": {
        "id": "nonprofit-package"
      },
      "source": [
        "total = df.isnull().sum()"
      ],
      "id": "nonprofit-package",
      "execution_count": 70,
      "outputs": []
    },
    {
      "cell_type": "code",
      "metadata": {
        "id": "judicial-issue"
      },
      "source": [
        "total"
      ],
      "id": "judicial-issue",
      "execution_count": null,
      "outputs": []
    },
    {
      "cell_type": "markdown",
      "metadata": {
        "id": "pressing-astronomy"
      },
      "source": [
        "# Converting Categorical Values into Numeric Values (Label Encoding):"
      ],
      "id": "pressing-astronomy"
    },
    {
      "cell_type": "code",
      "metadata": {
        "id": "inner-conditions"
      },
      "source": [
        "from sklearn.preprocessing import LabelEncoder\n",
        "var_mod = ['Gender', 'Married', 'Dependents', 'Education', 'Self_Employed', 'Property_Area', 'Loan_Status']\n",
        "#var_mod = ['Education', 'Self_Employed', 'Property_Area', 'Loan_Status']\n",
        "le = LabelEncoder()\n",
        "\n",
        "for i in var_mod:\n",
        "    df[i] = le.fit_transform(df[i])"
      ],
      "id": "inner-conditions",
      "execution_count": 72,
      "outputs": []
    },
    {
      "cell_type": "code",
      "metadata": {
        "id": "necessary-symposium"
      },
      "source": [
        "df.head()"
      ],
      "id": "necessary-symposium",
      "execution_count": null,
      "outputs": []
    },
    {
      "cell_type": "markdown",
      "metadata": {
        "id": "YYBC4ZKsXmTD"
      },
      "source": [
        "# Model Improvement by eliminating some of the features #"
      ],
      "id": "YYBC4ZKsXmTD"
    },
    {
      "cell_type": "code",
      "metadata": {
        "id": "periodic-inflation"
      },
      "source": [
        "# the iloc indexer for Pandas Dataframe is used for integer-location based indexing / selection by position\n",
        "\n",
        "x = df.iloc[:,5:12]\n",
        "y = df.iloc[:,12]\n"
      ],
      "id": "periodic-inflation",
      "execution_count": 74,
      "outputs": []
    },
    {
      "cell_type": "code",
      "metadata": {
        "colab": {
          "base_uri": "https://localhost:8080/",
          "height": 206
        },
        "id": "distinct-patient",
        "outputId": "8b0dd0a2-dd67-422b-8a4c-3f60c579dcb2"
      },
      "source": [
        "x.head()"
      ],
      "id": "distinct-patient",
      "execution_count": 75,
      "outputs": [
        {
          "output_type": "execute_result",
          "data": {
            "text/html": [
              "<div>\n",
              "<style scoped>\n",
              "    .dataframe tbody tr th:only-of-type {\n",
              "        vertical-align: middle;\n",
              "    }\n",
              "\n",
              "    .dataframe tbody tr th {\n",
              "        vertical-align: top;\n",
              "    }\n",
              "\n",
              "    .dataframe thead th {\n",
              "        text-align: right;\n",
              "    }\n",
              "</style>\n",
              "<table border=\"1\" class=\"dataframe\">\n",
              "  <thead>\n",
              "    <tr style=\"text-align: right;\">\n",
              "      <th></th>\n",
              "      <th>Self_Employed</th>\n",
              "      <th>ApplicantIncome</th>\n",
              "      <th>CoapplicantIncome</th>\n",
              "      <th>LoanAmount</th>\n",
              "      <th>Loan_Amount_Term</th>\n",
              "      <th>Credit_History</th>\n",
              "      <th>Property_Area</th>\n",
              "    </tr>\n",
              "  </thead>\n",
              "  <tbody>\n",
              "    <tr>\n",
              "      <th>0</th>\n",
              "      <td>0</td>\n",
              "      <td>5849</td>\n",
              "      <td>0.0</td>\n",
              "      <td>146.412162</td>\n",
              "      <td>360</td>\n",
              "      <td>1</td>\n",
              "      <td>2</td>\n",
              "    </tr>\n",
              "    <tr>\n",
              "      <th>1</th>\n",
              "      <td>0</td>\n",
              "      <td>4583</td>\n",
              "      <td>1508.0</td>\n",
              "      <td>128.000000</td>\n",
              "      <td>360</td>\n",
              "      <td>1</td>\n",
              "      <td>0</td>\n",
              "    </tr>\n",
              "    <tr>\n",
              "      <th>2</th>\n",
              "      <td>1</td>\n",
              "      <td>3000</td>\n",
              "      <td>0.0</td>\n",
              "      <td>66.000000</td>\n",
              "      <td>360</td>\n",
              "      <td>1</td>\n",
              "      <td>2</td>\n",
              "    </tr>\n",
              "    <tr>\n",
              "      <th>3</th>\n",
              "      <td>0</td>\n",
              "      <td>2583</td>\n",
              "      <td>2358.0</td>\n",
              "      <td>120.000000</td>\n",
              "      <td>360</td>\n",
              "      <td>1</td>\n",
              "      <td>2</td>\n",
              "    </tr>\n",
              "    <tr>\n",
              "      <th>4</th>\n",
              "      <td>0</td>\n",
              "      <td>6000</td>\n",
              "      <td>0.0</td>\n",
              "      <td>141.000000</td>\n",
              "      <td>360</td>\n",
              "      <td>1</td>\n",
              "      <td>2</td>\n",
              "    </tr>\n",
              "  </tbody>\n",
              "</table>\n",
              "</div>"
            ],
            "text/plain": [
              "   Self_Employed  ApplicantIncome  CoapplicantIncome  LoanAmount  \\\n",
              "0              0             5849                0.0  146.412162   \n",
              "1              0             4583             1508.0  128.000000   \n",
              "2              1             3000                0.0   66.000000   \n",
              "3              0             2583             2358.0  120.000000   \n",
              "4              0             6000                0.0  141.000000   \n",
              "\n",
              "  Loan_Amount_Term Credit_History  Property_Area  \n",
              "0              360              1              2  \n",
              "1              360              1              0  \n",
              "2              360              1              2  \n",
              "3              360              1              2  \n",
              "4              360              1              2  "
            ]
          },
          "metadata": {
            "tags": []
          },
          "execution_count": 75
        }
      ]
    },
    {
      "cell_type": "code",
      "metadata": {
        "colab": {
          "base_uri": "https://localhost:8080/"
        },
        "id": "eight-blanket",
        "outputId": "f23397af-3979-4989-c60e-b778ef19ae31"
      },
      "source": [
        "y.head()"
      ],
      "id": "eight-blanket",
      "execution_count": 76,
      "outputs": [
        {
          "output_type": "execute_result",
          "data": {
            "text/plain": [
              "0    1\n",
              "1    0\n",
              "2    1\n",
              "3    1\n",
              "4    1\n",
              "Name: Loan_Status, dtype: int64"
            ]
          },
          "metadata": {
            "tags": []
          },
          "execution_count": 76
        }
      ]
    },
    {
      "cell_type": "markdown",
      "metadata": {
        "id": "whole-hayes"
      },
      "source": [
        "# Splitting the Data (into training data set and testing data set):\n",
        "\n",
        "Here the dataset is split into two parts in a ratio of 80:20 \n",
        "\n",
        "That is: 80% data will be used for model training and 20% for model testing."
      ],
      "id": "whole-hayes"
    },
    {
      "cell_type": "code",
      "metadata": {
        "id": "considered-electronics"
      },
      "source": [
        "from sklearn.model_selection import train_test_split\n",
        "\n",
        "x_train,x_test,y_train,y_test = train_test_split(x,y,test_size=0.20, random_state=0)"
      ],
      "id": "considered-electronics",
      "execution_count": 77,
      "outputs": []
    },
    {
      "cell_type": "code",
      "metadata": {
        "id": "yellow-bikini"
      },
      "source": [
        "x_test"
      ],
      "id": "yellow-bikini",
      "execution_count": null,
      "outputs": []
    },
    {
      "cell_type": "markdown",
      "metadata": {
        "id": "approximate-spanish"
      },
      "source": [
        "# Building Decision Tree Model:\n",
        "\n",
        "Here we create a Decision Tree Model using Scikit-Learn"
      ],
      "id": "approximate-spanish"
    },
    {
      "cell_type": "code",
      "metadata": {
        "id": "missing-yahoo"
      },
      "source": [
        "from sklearn.tree import DecisionTreeClassifier\n",
        "\n",
        "# create decision tree clasifier object\n",
        "model = DecisionTreeClassifier()\n",
        "\n",
        "# train decision tree classifier \n",
        "model.fit(x_train,y_train)\n",
        "\n",
        "# predict the response for test dataset\n",
        "y_predictions = model.predict(x_test)\n"
      ],
      "id": "missing-yahoo",
      "execution_count": 79,
      "outputs": []
    },
    {
      "cell_type": "markdown",
      "metadata": {
        "id": "stupid-empty"
      },
      "source": [
        "# Model Evaluation\n",
        "\n",
        "Here we evaluate how accurate the Classifier or Model can predict the type of cultivars.\n",
        "\n",
        "Accuracy can be computed by comparing actual test set values and predicted values.\n",
        "\n",
        "Model Accuracy is how often is the Classifier correct?"
      ],
      "id": "stupid-empty"
    },
    {
      "cell_type": "code",
      "metadata": {
        "colab": {
          "base_uri": "https://localhost:8080/"
        },
        "id": "corrected-roads",
        "outputId": "645ec434-cbb0-485e-d068-777114823359"
      },
      "source": [
        "from sklearn import metrics\n",
        "from sklearn.model_selection import cross_val_score\n",
        "from sklearn.metrics import accuracy_score,f1_score\n",
        "\n",
        "print(\"Training Data Set Accuracy: \", accuracy_score(y_test,y_predictions))\n",
        "print(\"Training Data F1 Score \", f1_score(y_test,y_predictions))\n",
        "\n",
        "print(\"Validation Mean F1 Score: \",cross_val_score(model,x_train,y_train,cv=5,scoring='f1_macro').mean())\n",
        "print(\"Validation Mean Accuracy: \",cross_val_score(model,x_train,y_train,cv=5,scoring='accuracy').mean())\n",
        "\n",
        "cnf_matrix = metrics.confusion_matrix(y_test, y_predictions)\n",
        "print(\"Confusion Matrix\", cnf_matrix)"
      ],
      "id": "corrected-roads",
      "execution_count": 80,
      "outputs": [
        {
          "output_type": "stream",
          "text": [
            "Training Data Set Accuracy:  0.7235772357723578\n",
            "Training Data F1 Score  0.7926829268292683\n",
            "Validation Mean F1 Score:  0.6457117574238872\n",
            "Validation Mean Accuracy:  0.6843537414965986\n",
            "Confusion Matrix [[24  9]\n",
            " [25 65]]\n"
          ],
          "name": "stdout"
        }
      ]
    },
    {
      "cell_type": "markdown",
      "metadata": {
        "id": "XeMeC96ZTjha"
      },
      "source": [
        "\n",
        "**Overfitting Problem**\n",
        "\n",
        "We can see from above metrics that Training Accuracy > Test Accuracy with default settings of Decision Tree classifier. Hence, model is overfit. We will try some Hyper-parameter tuning and see if it helps.\n",
        "\n",
        "**First let's try tuning 'Max_Depth' of tree**\n"
      ],
      "id": "XeMeC96ZTjha"
    },
    {
      "cell_type": "markdown",
      "metadata": {
        "id": "FH-mYIEgTAeW"
      },
      "source": [
        "Accuracy of Decision Tree Model is lower than that of Logistic Regression!"
      ],
      "id": "FH-mYIEgTAeW"
    },
    {
      "cell_type": "code",
      "metadata": {
        "colab": {
          "base_uri": "https://localhost:8080/",
          "height": 352
        },
        "id": "jXO87P25TqAr",
        "outputId": "80f0ae94-b648-4f09-9ffb-29ab3ca8da77"
      },
      "source": [
        "training_accuracy = []\n",
        "val_accuracy = []\n",
        "training_f1 = []\n",
        "val_f1 = []\n",
        "tree_depths = []\n",
        "\n",
        "for depth in range(1,20):\n",
        "    tree_clf = DecisionTreeClassifier(max_depth=depth)\n",
        "    tree_clf.fit(x_train,y_train)\n",
        "    y_training_pred = tree_clf.predict(x_train)\n",
        "\n",
        "    training_acc = accuracy_score(y_train,y_training_pred)\n",
        "    train_f1 = f1_score(y_train,y_training_pred)\n",
        "    val_mean_f1 = cross_val_score(tree_clf,x_train,y_train,cv=5,scoring='f1_macro').mean()\n",
        "    val_mean_accuracy = cross_val_score(tree_clf,x_train,y_train,cv=5,scoring='accuracy').mean()\n",
        "    \n",
        "    training_accuracy.append(training_acc)\n",
        "    val_accuracy.append(val_mean_accuracy)\n",
        "    training_f1.append(train_f1)\n",
        "    val_f1.append(val_mean_f1)\n",
        "    tree_depths.append(depth)\n",
        "    \n",
        "\n",
        "Tuning_Max_depth = {\"Training Accuracy\": training_accuracy, \"Validation Accuracy\": val_accuracy, \"Training F1\": training_f1, \"Validation F1\":val_f1, \"Max_Depth\": tree_depths }\n",
        "Tuning_Max_depth_df = pd.DataFrame.from_dict(Tuning_Max_depth)\n",
        "\n",
        "plot_df = Tuning_Max_depth_df.melt('Max_Depth',var_name='Metrics',value_name=\"Values\")\n",
        "fig,ax = plt.subplots(figsize=(15,5))\n",
        "sns.pointplot(x=\"Max_Depth\", y=\"Values\",hue=\"Metrics\", data=plot_df,ax=ax)"
      ],
      "id": "jXO87P25TqAr",
      "execution_count": 81,
      "outputs": [
        {
          "output_type": "execute_result",
          "data": {
            "text/plain": [
              "<matplotlib.axes._subplots.AxesSubplot at 0x7f04b019eed0>"
            ]
          },
          "metadata": {
            "tags": []
          },
          "execution_count": 81
        },
        {
          "output_type": "display_data",
          "data": {
            "image/png": "[encoded data removed]",
            "text/plain": [
              "<Figure size 1080x360 with 1 Axes>"
            ]
          },
          "metadata": {
            "tags": [],
            "needs_background": "light"
          }
        }
      ]
    },
    {
      "cell_type": "markdown",
      "metadata": {
        "id": "5q1gxzu5UPwh"
      },
      "source": [
        "From above graph, we can conclude that keeping 'Max_Depth' = 3 will yield optimum Test accuracy and F1 score Optimum Test Accuracy ~ 0.805; Optimum F1 Score: ~0.7"
      ],
      "id": "5q1gxzu5UPwh"
    },
    {
      "cell_type": "code",
      "metadata": {
        "colab": {
          "base_uri": "https://localhost:8080/",
          "height": 227
        },
        "id": "XJfA7WHTUa8A",
        "outputId": "5aa88bc9-4879-4d93-a832-4fcf133e4b9d"
      },
      "source": [
        "from sklearn.metrics import confusion_matrix\n",
        "tree_clf = DecisionTreeClassifier(max_depth=3,min_samples_leaf = 35)\n",
        "tree_clf.fit(x_train,y_train)\n",
        "y_pred = tree_clf.predict(x_test)\n",
        "print(\"Test Accuracy: \",accuracy_score(y_test,y_pred))\n",
        "print(\"Test F1 Score: \",f1_score(y_test,y_pred))\n",
        "print(\"Confusion Matrix on Test Data\")\n",
        "pd.crosstab(y_test, y_pred, rownames=['True'], colnames=['Predicted'], margins=True)"
      ],
      "id": "XJfA7WHTUa8A",
      "execution_count": 82,
      "outputs": [
        {
          "output_type": "stream",
          "text": [
            "Test Accuracy:  0.8292682926829268\n",
            "Test F1 Score:  0.8934010152284264\n",
            "Confusion Matrix on Test Data\n"
          ],
          "name": "stdout"
        },
        {
          "output_type": "execute_result",
          "data": {
            "text/html": [
              "<div>\n",
              "<style scoped>\n",
              "    .dataframe tbody tr th:only-of-type {\n",
              "        vertical-align: middle;\n",
              "    }\n",
              "\n",
              "    .dataframe tbody tr th {\n",
              "        vertical-align: top;\n",
              "    }\n",
              "\n",
              "    .dataframe thead th {\n",
              "        text-align: right;\n",
              "    }\n",
              "</style>\n",
              "<table border=\"1\" class=\"dataframe\">\n",
              "  <thead>\n",
              "    <tr style=\"text-align: right;\">\n",
              "      <th>Predicted</th>\n",
              "      <th>0</th>\n",
              "      <th>1</th>\n",
              "      <th>All</th>\n",
              "    </tr>\n",
              "    <tr>\n",
              "      <th>True</th>\n",
              "      <th></th>\n",
              "      <th></th>\n",
              "      <th></th>\n",
              "    </tr>\n",
              "  </thead>\n",
              "  <tbody>\n",
              "    <tr>\n",
              "      <th>0</th>\n",
              "      <td>14</td>\n",
              "      <td>19</td>\n",
              "      <td>33</td>\n",
              "    </tr>\n",
              "    <tr>\n",
              "      <th>1</th>\n",
              "      <td>2</td>\n",
              "      <td>88</td>\n",
              "      <td>90</td>\n",
              "    </tr>\n",
              "    <tr>\n",
              "      <th>All</th>\n",
              "      <td>16</td>\n",
              "      <td>107</td>\n",
              "      <td>123</td>\n",
              "    </tr>\n",
              "  </tbody>\n",
              "</table>\n",
              "</div>"
            ],
            "text/plain": [
              "Predicted   0    1  All\n",
              "True                   \n",
              "0          14   19   33\n",
              "1           2   88   90\n",
              "All        16  107  123"
            ]
          },
          "metadata": {
            "tags": []
          },
          "execution_count": 82
        }
      ]
    },
    {
      "cell_type": "markdown",
      "metadata": {
        "id": "uSqY1ApnVpOt"
      },
      "source": [
        "\n",
        "**Mis-classifications**\n",
        "\n",
        "It can be seen that majority of the misclassifications are happening because of **Loan Reject** applicants being classified as ***Accept***."
      ],
      "id": "uSqY1ApnVpOt"
    },
    {
      "cell_type": "markdown",
      "metadata": {
        "id": "ihfMfDWfXMxW"
      },
      "source": [
        "## Model 2 - Logistic Regression Model ##"
      ],
      "id": "ihfMfDWfXMxW"
    },
    {
      "cell_type": "code",
      "metadata": {
        "colab": {
          "base_uri": "https://localhost:8080/",
          "height": 351
        },
        "id": "6zzuQgBpXMAY",
        "outputId": "bf58f387-3ff5-416a-9f65-9a0f8ab85208"
      },
      "source": [
        "from sklearn.linear_model import LogisticRegression\n",
        "from sklearn.metrics import accuracy_score\n",
        "from sklearn.model_selection import cross_val_predict\n",
        "\n",
        "train_accuracies = []\n",
        "train_f1_scores = []\n",
        "test_accuracies = []\n",
        "test_f1_scores = []\n",
        "thresholds = []\n",
        "\n",
        "#predictors_Logistic=['Credit_History','Education','Gender']\n",
        "#x_train = train_modified[list(predictors_Logistic)].values\n",
        "#y_train = train_modified[\"Loan_Status\"].values\n",
        "#x_test=test_modified[list(predictors_Logistic)].values\n",
        "\n",
        "#for thresh in np.linspace(0.1,0.9,8): ## Sweeping from threshold of 0.1 to 0.9\n",
        "for thresh in np.arange(0.1,0.9,0.1): ## Sweeping from threshold of 0.1 to 0.9\n",
        "    logreg_clf = LogisticRegression(solver='liblinear')\n",
        "    logreg_clf.fit(x_train,y_train)\n",
        "    \n",
        "    y_pred_train_thresh = logreg_clf.predict_proba(x_train)[:,1]\n",
        "    y_pred_train = (y_pred_train_thresh > thresh).astype(int)\n",
        "\n",
        "    train_acc = accuracy_score(y_train,y_pred_train)\n",
        "    train_f1 = f1_score(y_train,y_pred_train)\n",
        "    \n",
        "    y_pred_test_thresh = logreg_clf.predict_proba(x_test)[:,1]\n",
        "    y_pred_test = (y_pred_test_thresh > thresh).astype(int) \n",
        "    \n",
        "    test_acc = accuracy_score(y_test,y_pred_test)\n",
        "    test_f1 = f1_score(y_test,y_pred_test)\n",
        "    \n",
        "    train_accuracies.append(train_acc)\n",
        "    train_f1_scores.append(train_f1)\n",
        "    test_accuracies.append(test_acc)\n",
        "    test_f1_scores.append(test_f1)\n",
        "    thresholds.append(thresh)\n",
        "    \n",
        "    \n",
        "Threshold_logreg = {\"Training Accuracy\": train_accuracies, \"Test Accuracy\": test_accuracies, \"Training F1\": train_f1_scores, \"Test F1\":test_f1_scores, \"Decision Threshold\": thresholds }\n",
        "Threshold_logreg_df = pd.DataFrame.from_dict(Threshold_logreg)\n",
        "\n",
        "plot_df = Threshold_logreg_df.melt('Decision Threshold',var_name='Metrics',value_name=\"Values\")\n",
        "fig,ax = plt.subplots(figsize=(15,5))\n",
        "sns.pointplot(x=\"Decision Threshold\", y=\"Values\",hue=\"Metrics\", data=plot_df,ax=ax)"
      ],
      "id": "6zzuQgBpXMAY",
      "execution_count": 83,
      "outputs": [
        {
          "output_type": "execute_result",
          "data": {
            "text/plain": [
              "<matplotlib.axes._subplots.AxesSubplot at 0x7f04b1ccf610>"
            ]
          },
          "metadata": {
            "tags": []
          },
          "execution_count": 83
        },
        {
          "output_type": "display_data",
          "data": {
            "image/png": "[encoded data removed]",
            "text/plain": [
              "<Figure size 1080x360 with 1 Axes>"
            ]
          },
          "metadata": {
            "tags": [],
            "needs_background": "light"
          }
        }
      ]
    },
    {
      "cell_type": "markdown",
      "metadata": {
        "id": "s1wUW4EiYGIw"
      },
      "source": [
        "Based on the above Test/Train curves, we can keep threshold to 0.4.\n",
        "Now Finally let's look at Logistic Regression Confusion Matrix"
      ],
      "id": "s1wUW4EiYGIw"
    },
    {
      "cell_type": "markdown",
      "metadata": {
        "id": "necessary-graph"
      },
      "source": [
        "# Model Evaluation using Confusion Matrix and F1 Score #\n",
        "\n",
        "A confusion matrix is a table that is used to evaluate the performance of a classification model.\n",
        "\n",
        "You can also visualize the performance of an algorithm. The fundamental of a confusion matrix is the number of correct and incorrect predictions are summed up class-wise."
      ],
      "id": "necessary-graph"
    },
    {
      "cell_type": "code",
      "metadata": {
        "colab": {
          "base_uri": "https://localhost:8080/",
          "height": 227
        },
        "id": "C0vER0FSYIdI",
        "outputId": "067b67c0-ec0c-4dec-96f8-4744e11cbdf8"
      },
      "source": [
        "thresh = 0.5 ### Threshold chosen from above Curves\n",
        "y_pred_test_thresh = logreg_clf.predict_proba(x_test)[:,1]\n",
        "y_pred = (y_pred_test_thresh > thresh).astype(int) \n",
        "print(\"Test Accuracy: \",accuracy_score(y_test,y_pred))\n",
        "print(\"Test F1 Score: \",f1_score(y_test,y_pred))\n",
        "print(\"Confusion Matrix on Test Data\")\n",
        "pd.crosstab(y_test, y_pred, rownames=['True'], colnames=['Predicted'], margins=True)"
      ],
      "id": "C0vER0FSYIdI",
      "execution_count": 84,
      "outputs": [
        {
          "output_type": "stream",
          "text": [
            "Test Accuracy:  0.8373983739837398\n",
            "Test F1 Score:  0.8979591836734695\n",
            "Confusion Matrix on Test Data\n"
          ],
          "name": "stdout"
        },
        {
          "output_type": "execute_result",
          "data": {
            "text/html": [
              "<div>\n",
              "<style scoped>\n",
              "    .dataframe tbody tr th:only-of-type {\n",
              "        vertical-align: middle;\n",
              "    }\n",
              "\n",
              "    .dataframe tbody tr th {\n",
              "        vertical-align: top;\n",
              "    }\n",
              "\n",
              "    .dataframe thead th {\n",
              "        text-align: right;\n",
              "    }\n",
              "</style>\n",
              "<table border=\"1\" class=\"dataframe\">\n",
              "  <thead>\n",
              "    <tr style=\"text-align: right;\">\n",
              "      <th>Predicted</th>\n",
              "      <th>0</th>\n",
              "      <th>1</th>\n",
              "      <th>All</th>\n",
              "    </tr>\n",
              "    <tr>\n",
              "      <th>True</th>\n",
              "      <th></th>\n",
              "      <th></th>\n",
              "      <th></th>\n",
              "    </tr>\n",
              "  </thead>\n",
              "  <tbody>\n",
              "    <tr>\n",
              "      <th>0</th>\n",
              "      <td>15</td>\n",
              "      <td>18</td>\n",
              "      <td>33</td>\n",
              "    </tr>\n",
              "    <tr>\n",
              "      <th>1</th>\n",
              "      <td>2</td>\n",
              "      <td>88</td>\n",
              "      <td>90</td>\n",
              "    </tr>\n",
              "    <tr>\n",
              "      <th>All</th>\n",
              "      <td>17</td>\n",
              "      <td>106</td>\n",
              "      <td>123</td>\n",
              "    </tr>\n",
              "  </tbody>\n",
              "</table>\n",
              "</div>"
            ],
            "text/plain": [
              "Predicted   0    1  All\n",
              "True                   \n",
              "0          15   18   33\n",
              "1           2   88   90\n",
              "All        17  106  123"
            ]
          },
          "metadata": {
            "tags": []
          },
          "execution_count": 84
        }
      ]
    },
    {
      "cell_type": "markdown",
      "metadata": {
        "id": "endless-guyana"
      },
      "source": [
        "# Building Logistic Regression Model\n",
        "\n",
        "First we import the Logistic Regression Module and create a Logisctic Regression classifier object using LogisticRegression() function.\n",
        "\n",
        "Then fit the model on the Training set using fit() function and perform prediction on the Test set using predict() function. "
      ],
      "id": "endless-guyana"
    },
    {
      "cell_type": "code",
      "metadata": {
        "id": "unauthorized-spice"
      },
      "source": [
        "from sklearn.linear_model import LogisticRegression\n",
        "\n",
        "logistic_regression = LogisticRegression()\n",
        "logistic_regression.fit(x_train,y_train)\n",
        "y_predictions = logistic_regression.predict(x_test)\n"
      ],
      "id": "unauthorized-spice",
      "execution_count": 85,
      "outputs": []
    },
    {
      "cell_type": "markdown",
      "metadata": {
        "id": "XSEnSIfbMMI0"
      },
      "source": [
        "Feature engineering using covariance is sourced from https://towardsdatascience.com/feature-engineering-combination-polynomial-features-3caa4c77a755"
      ],
      "id": "XSEnSIfbMMI0"
    },
    {
      "cell_type": "code",
      "metadata": {
        "id": "4ONddeC7KqYm",
        "colab": {
          "base_uri": "https://localhost:8080/",
          "height": 206
        },
        "outputId": "03b17da3-94d3-467d-c686-d1db87486c73"
      },
      "source": [
        "x_train.cov()"
      ],
      "id": "4ONddeC7KqYm",
      "execution_count": 86,
      "outputs": [
        {
          "output_type": "execute_result",
          "data": {
            "text/html": [
              "<div>\n",
              "<style scoped>\n",
              "    .dataframe tbody tr th:only-of-type {\n",
              "        vertical-align: middle;\n",
              "    }\n",
              "\n",
              "    .dataframe tbody tr th {\n",
              "        vertical-align: top;\n",
              "    }\n",
              "\n",
              "    .dataframe thead th {\n",
              "        text-align: right;\n",
              "    }\n",
              "</style>\n",
              "<table border=\"1\" class=\"dataframe\">\n",
              "  <thead>\n",
              "    <tr style=\"text-align: right;\">\n",
              "      <th></th>\n",
              "      <th>Self_Employed</th>\n",
              "      <th>ApplicantIncome</th>\n",
              "      <th>CoapplicantIncome</th>\n",
              "      <th>LoanAmount</th>\n",
              "      <th>Property_Area</th>\n",
              "    </tr>\n",
              "  </thead>\n",
              "  <tbody>\n",
              "    <tr>\n",
              "      <th>Self_Employed</th>\n",
              "      <td>0.121027</td>\n",
              "      <td>3.253056e+02</td>\n",
              "      <td>-7.446068e+00</td>\n",
              "      <td>4.082424</td>\n",
              "      <td>-0.001654</td>\n",
              "    </tr>\n",
              "    <tr>\n",
              "      <th>ApplicantIncome</th>\n",
              "      <td>325.305582</td>\n",
              "      <td>4.434256e+07</td>\n",
              "      <td>-2.018027e+06</td>\n",
              "      <td>327083.355817</td>\n",
              "      <td>-41.788503</td>\n",
              "    </tr>\n",
              "    <tr>\n",
              "      <th>CoapplicantIncome</th>\n",
              "      <td>-7.446068</td>\n",
              "      <td>-2.018027e+06</td>\n",
              "      <td>7.769592e+06</td>\n",
              "      <td>56557.222832</td>\n",
              "      <td>9.253903</td>\n",
              "    </tr>\n",
              "    <tr>\n",
              "      <th>LoanAmount</th>\n",
              "      <td>4.082424</td>\n",
              "      <td>3.270834e+05</td>\n",
              "      <td>5.655722e+04</td>\n",
              "      <td>7509.602613</td>\n",
              "      <td>-3.186286</td>\n",
              "    </tr>\n",
              "    <tr>\n",
              "      <th>Property_Area</th>\n",
              "      <td>-0.001654</td>\n",
              "      <td>-4.178850e+01</td>\n",
              "      <td>9.253903e+00</td>\n",
              "      <td>-3.186286</td>\n",
              "      <td>0.622827</td>\n",
              "    </tr>\n",
              "  </tbody>\n",
              "</table>\n",
              "</div>"
            ],
            "text/plain": [
              "                   Self_Employed  ApplicantIncome  CoapplicantIncome  \\\n",
              "Self_Employed           0.121027     3.253056e+02      -7.446068e+00   \n",
              "ApplicantIncome       325.305582     4.434256e+07      -2.018027e+06   \n",
              "CoapplicantIncome      -7.446068    -2.018027e+06       7.769592e+06   \n",
              "LoanAmount              4.082424     3.270834e+05       5.655722e+04   \n",
              "Property_Area          -0.001654    -4.178850e+01       9.253903e+00   \n",
              "\n",
              "                      LoanAmount  Property_Area  \n",
              "Self_Employed           4.082424      -0.001654  \n",
              "ApplicantIncome    327083.355817     -41.788503  \n",
              "CoapplicantIncome   56557.222832       9.253903  \n",
              "LoanAmount           7509.602613      -3.186286  \n",
              "Property_Area          -3.186286       0.622827  "
            ]
          },
          "metadata": {
            "tags": []
          },
          "execution_count": 86
        }
      ]
    },
    {
      "cell_type": "code",
      "metadata": {
        "id": "HIU0QIP8LAyD",
        "colab": {
          "base_uri": "https://localhost:8080/",
          "height": 379
        },
        "outputId": "50977b32-d841-4419-dfd6-b92c9e7c682f"
      },
      "source": [
        "sns.heatmap(x_train.cov())"
      ],
      "id": "HIU0QIP8LAyD",
      "execution_count": 87,
      "outputs": [
        {
          "output_type": "execute_result",
          "data": {
            "text/plain": [
              "<matplotlib.axes._subplots.AxesSubplot at 0x7f04b01a8610>"
            ]
          },
          "metadata": {
            "tags": []
          },
          "execution_count": 87
        },
        {
          "output_type": "display_data",
          "data": {
            "image/png": "[encoded data removed]",
            "text/plain": [
              "<Figure size 432x288 with 2 Axes>"
            ]
          },
          "metadata": {
            "tags": [],
            "needs_background": "light"
          }
        }
      ]
    },
    {
      "cell_type": "markdown",
      "metadata": {
        "id": "mzRvUPToD-Os"
      },
      "source": [
        "## Logistic Regression Feature Importance ##"
      ],
      "id": "mzRvUPToD-Os"
    },
    {
      "cell_type": "code",
      "metadata": {
        "id": "egzxBU5VDfcO",
        "colab": {
          "base_uri": "https://localhost:8080/",
          "height": 387
        },
        "outputId": "3c293e7e-6563-4de3-900d-fc31bbbef3ae"
      },
      "source": [
        "# get importance\n",
        "importance = logistic_regression.coef_[0]\n",
        "# summarize feature importance\n",
        "for i,v in enumerate(importance):\n",
        "\tprint('Feature: %0d, Score: %.5f' % (i,v))\n",
        "# plot feature importance\n",
        "plt.bar([x for x in range(len(importance))], importance)\n",
        "plt.show()"
      ],
      "id": "egzxBU5VDfcO",
      "execution_count": 88,
      "outputs": [
        {
          "output_type": "stream",
          "text": [
            "Feature: 0, Score: 0.05074\n",
            "Feature: 1, Score: 0.00001\n",
            "Feature: 2, Score: -0.00006\n",
            "Feature: 3, Score: -0.00147\n",
            "Feature: 4, Score: -0.00523\n",
            "Feature: 5, Score: 3.03788\n",
            "Feature: 6, Score: 0.06116\n"
          ],
          "name": "stdout"
        },
        {
          "output_type": "display_data",
          "data": {
            "image/png": "[encoded data removed]",
            "text/plain": [
              "<Figure size 432x288 with 1 Axes>"
            ]
          },
          "metadata": {
            "tags": [],
            "needs_background": "light"
          }
        }
      ]
    },
    {
      "cell_type": "markdown",
      "metadata": {
        "id": "special-northwest"
      },
      "source": [
        "# Visualizing Confusion Matrix using Heatmap\n",
        "\n",
        "Let's visualize the results of the model in the form of a confusion matrix using matplotlib and seaborn."
      ],
      "id": "special-northwest"
    },
    {
      "cell_type": "code",
      "metadata": {
        "colab": {
          "base_uri": "https://localhost:8080/",
          "height": 295
        },
        "id": "classical-tuning",
        "outputId": "84ba10a3-0842-488b-979f-0d591814b6e0"
      },
      "source": [
        "import seaborn as sb\n",
        "\n",
        "sb.heatmap(cnf_matrix, annot=True)\n",
        "\n",
        "plt.title('Confusion matrix')\n",
        "plt.ylabel('Actual label')\n",
        "plt.xlabel('Predicted label')\n",
        "\n",
        "plt.show()"
      ],
      "id": "classical-tuning",
      "execution_count": 89,
      "outputs": [
        {
          "output_type": "display_data",
          "data": {
            "image/png": "[encoded data removed]",
            "text/plain": [
              "<Figure size 432x288 with 2 Axes>"
            ]
          },
          "metadata": {
            "tags": [],
            "needs_background": "light"
          }
        }
      ]
    },
    {
      "cell_type": "code",
      "metadata": {
        "id": "previous-extent"
      },
      "source": [
        ""
      ],
      "id": "previous-extent",
      "execution_count": 89,
      "outputs": []
    },
    {
      "cell_type": "code",
      "metadata": {
        "colab": {
          "base_uri": "https://localhost:8080/",
          "height": 282
        },
        "id": "framed-nancy",
        "outputId": "0439d23e-29bb-479e-ac34-e14983f0e164"
      },
      "source": [
        "# fmt: string formatting code to use when adding annotations\n",
        "\n",
        "sb.heatmap(cnf_matrix/np.sum(cnf_matrix), annot=True, fmt='.2%')"
      ],
      "id": "framed-nancy",
      "execution_count": 90,
      "outputs": [
        {
          "output_type": "execute_result",
          "data": {
            "text/plain": [
              "<matplotlib.axes._subplots.AxesSubplot at 0x7f04b029b0d0>"
            ]
          },
          "metadata": {
            "tags": []
          },
          "execution_count": 90
        },
        {
          "output_type": "display_data",
          "data": {
            "image/png": "[encoded data removed]",
            "text/plain": [
              "<Figure size 432x288 with 2 Axes>"
            ]
          },
          "metadata": {
            "tags": [],
            "needs_background": "light"
          }
        }
      ]
    },
    {
      "cell_type": "code",
      "metadata": {
        "id": "worldwide-rwanda"
      },
      "source": [
        ""
      ],
      "id": "worldwide-rwanda",
      "execution_count": 90,
      "outputs": []
    },
    {
      "cell_type": "markdown",
      "metadata": {
        "id": "exotic-weekend"
      },
      "source": [
        "# Let's predict whether the Loan will get approved or not for \"Michael\""
      ],
      "id": "exotic-weekend"
    },
    {
      "cell_type": "code",
      "metadata": {
        "id": "9ir8cAYyGsuo"
      },
      "source": [
        "def predictLoanStatus(self_employed, applicant_income, secondary_income, loan_amount, loan_term, credit_history, area): #removed education\n",
        "    loanstatus = logreg_clf.predict([[self_employed, applicant_income, secondary_income, loan_amount, loan_term, credit_history, area]])\n",
        "    if (1 in loanstatus):\n",
        "        print (\"Grant the loan to client\");\n",
        "    else :\n",
        "        print (\"Do not grant loan to client\");"
      ],
      "id": "9ir8cAYyGsuo",
      "execution_count": 91,
      "outputs": []
    },
    {
      "cell_type": "markdown",
      "metadata": {
        "id": "BBaN_iomDBSy"
      },
      "source": [
        "Perform negative test - client must be declined\n"
      ],
      "id": "BBaN_iomDBSy"
    },
    {
      "cell_type": "code",
      "metadata": {
        "colab": {
          "base_uri": "https://localhost:8080/"
        },
        "id": "desirable-preference",
        "outputId": "3246f258-234c-4967-9e0c-f703da929ce7"
      },
      "source": [
        "predictLoanStatus(0,9346,6500,100,36,0.0,2) # 1 education"
      ],
      "id": "desirable-preference",
      "execution_count": 92,
      "outputs": [
        {
          "output_type": "stream",
          "text": [
            "Do not grant loan to client\n"
          ],
          "name": "stdout"
        }
      ]
    },
    {
      "cell_type": "markdown",
      "metadata": {
        "id": "JKjrqPhZCYf-"
      },
      "source": [
        "Perform a positive test - client must qualify."
      ],
      "id": "JKjrqPhZCYf-"
    },
    {
      "cell_type": "code",
      "metadata": {
        "colab": {
          "base_uri": "https://localhost:8080/"
        },
        "id": "stupid-excuse",
        "outputId": "5b6ba58b-aa6b-4d1f-ed72-60deed900869"
      },
      "source": [
        "predictLoanStatus(1,7085,0.0,84.0,360,1,1) # 0 education"
      ],
      "id": "stupid-excuse",
      "execution_count": 93,
      "outputs": [
        {
          "output_type": "stream",
          "text": [
            "Grant the loan to client\n"
          ],
          "name": "stdout"
        }
      ]
    },
    {
      "cell_type": "code",
      "metadata": {
        "id": "global-studio"
      },
      "source": [
        "# END"
      ],
      "id": "global-studio",
      "execution_count": 94,
      "outputs": []
    }
  ]
}